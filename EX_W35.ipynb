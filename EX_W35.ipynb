{
 "cells": [
  {
   "cell_type": "markdown",
   "id": "b4005770",
   "metadata": {},
   "source": [
    "# Exercises week 35 - Deriving and Implementing Ordinary Least Squares\n",
    "\n",
    "### Ingvild Olden Bjerkelund"
   ]
  },
  {
   "cell_type": "markdown",
   "id": "f7a9209d",
   "metadata": {},
   "source": [
    "## How to take derivatives of Matrix-Vector expressions"
   ]
  },
  {
   "cell_type": "markdown",
   "id": "45f3712e",
   "metadata": {},
   "source": [
    "In these exercises it is always useful to write out with summation indices the various quantities. Take also a look at the weekly slides from week 35 and the various examples included there.\n",
    "\n",
    "As an example, consider the function\n",
    "\n",
    "$$\n",
    "f(\\boldsymbol{x}) =\\boldsymbol{A}\\boldsymbol{x},\n",
    "$$\n",
    "\n",
    "which reads for a specific component $f_i$ (we define the matrix $\\boldsymbol{A}$ to have dimension $n\\times n$ and the vector $\\boldsymbol{x}$ to have length $n$)\n",
    "\n",
    "$$\n",
    "f_i =\\sum_{j=0}^{n-1}a_{ij}x_j,\n",
    "$$\n",
    "\n",
    "which leads to\n",
    "\n",
    "$$\n",
    "\\frac{\\partial f_i}{\\partial x_j}= a_{ij},\n",
    "$$\n",
    "\n",
    "and written out in terms of the vector $\\boldsymbol{x}$ we have\n",
    "\n",
    "$$\n",
    "\\frac{\\partial f(\\boldsymbol{x})}{\\partial \\boldsymbol{x}}= \\boldsymbol{A}.\n",
    "$$"
   ]
  },
  {
   "cell_type": "markdown",
   "id": "5fa8a4e6",
   "metadata": {},
   "source": [
    "## Exercise 1 - Finding the derivative of Matrix-Vector expressions"
   ]
  },
  {
   "cell_type": "markdown",
   "id": "df7a2270",
   "metadata": {},
   "source": [
    "**a)** Consider the expression\n",
    "\n",
    "$$\n",
    "\\frac{\\partial (\\boldsymbol{a}^T\\boldsymbol{x})}{\\partial \\boldsymbol{x}},\n",
    "$$\n",
    "\n",
    "Where $\\boldsymbol{a}$ and $\\boldsymbol{x}$ are column-vectors with length $n$.\n",
    "\n",
    "What is the *shape* of the expression we are taking the derivative of?\n",
    "\n",
    "What is the *shape* of the thing we are taking the derivative with respect to?\n",
    "\n",
    "What is the *shape* of the result of the expression?"
   ]
  },
  {
   "cell_type": "markdown",
   "id": "c469079a",
   "metadata": {},
   "source": [
    "*ANSWER:*\n",
    "\n",
    "The expression $a^T x$ calculates the dot product of the vectors $a$ and $x$: Scalar (1x1).\n",
    "\n",
    "We are taking the derivative with respect to the vector $x$: Vector (n, 1).\n",
    "\n",
    "When taking the derivative of a scalar (the result of $a^T x$) with respect to a vector (in this case, $x$), the result is a vector that has the same number of components as the vector with respect to which we are differentiating. The derivative $\\frac{\\partial (a^T x)}{\\partial x}$ will yield a vector:  Vector (n, 1).\n",
    "\n",
    "**Summary:**\n",
    "\n",
    "- Shape of the expression: Scalar (1x1)\n",
    "- Shape of the derivative variable: Vector (n, 1)\n",
    "- Shape of the result of the derivative: Vector (n, 1)"
   ]
  },
  {
   "cell_type": "markdown",
   "id": "c0396734",
   "metadata": {},
   "source": [
    "**b)** Show that\n",
    "\n",
    "$$\n",
    "\\frac{\\partial (\\boldsymbol{a}^T\\boldsymbol{x})}{\\partial \\boldsymbol{x}} = \\boldsymbol{a}^T,\n",
    "$$"
   ]
  },
  {
   "cell_type": "markdown",
   "id": "8dd3a090",
   "metadata": {},
   "source": [
    "*ANSWER:*\n",
    "\n",
    "The expression $a^T x$ represents a scalar (inner product): \n",
    "$$\n",
    "a^T x = \\sum_{i=1}^n a_i x_i\n",
    "$$ \n",
    "where $a_i$ and $x_i$ are the components of the vectors $a$ and $x$, respectively.\n",
    "\n",
    "We are interested in finding the derivative of $a^T x$ with respect to the vector $x$, which can be obtained by differentiating each component of the scalar function with respect to the corresponding component of $x$.\n",
    "\n",
    "The $j^{th}$ component of the scalar $a^T x$ is given by:\n",
    "$$\n",
    "f(x) = a^T x = a_1 x_1 + a_2 x_2 + \\ldots + a_n x_n\n",
    "$$\n",
    "We take the partial derivative of $f$ with respect to $x_j$:\n",
    "$$\n",
    "\\frac{\\partial (a^T x)}{\\partial x_j} = \\frac{\\partial}{\\partial x_j} \\left( a_1 x_1 + a_2 x_2 + \\ldots + a_n x_n \\right)\n",
    "$$\n",
    "When we differentiate, we observe that the only term that depends on $x_j$ is $a_j x_j$, so:\n",
    "$$\n",
    "\\frac{\\partial (a^T x)}{\\partial x_j} = a_j\n",
    "$$\n",
    "\n",
    "This differentiation holds for each component $j$ of the vector $x$. And, we can write the result in vector form:\n",
    "$$\n",
    "\\frac{\\partial (a^T x)}{\\partial x} = \\begin{bmatrix}\n",
    "\\frac{\\partial (a^T x)}{\\partial x_1} \\\\\n",
    "\\frac{\\partial (a^T x)}{\\partial x_2} \\\\\n",
    "\\vdots \\\\\n",
    "\\frac{\\partial (a^T x)}{\\partial x_n}\n",
    "\\end{bmatrix} = \\begin{bmatrix}\n",
    "a_1 \\\\\n",
    "a_2 \\\\\n",
    "\\vdots \\\\\n",
    "a_n\n",
    "\\end{bmatrix}\n",
    "= a\n",
    "$$\n",
    "\n",
    "The result $\\frac{\\partial (a^T x)}{\\partial x}$ is a vector $a$, but row vectors are generally denoted in terms of transpose, the final expression can be represented as:\n",
    "$$\n",
    "\\frac{\\partial (a^T x)}{\\partial x} = a^T\n",
    "$$\n"
   ]
  },
  {
   "cell_type": "markdown",
   "id": "dc39d541",
   "metadata": {},
   "source": [
    "**c)** Show that\n",
    "\n",
    "$$\n",
    "\\frac{\\partial (\\boldsymbol{a}^T\\boldsymbol{A}\\boldsymbol{a})}{\\partial \\boldsymbol{a}} = \\boldsymbol{a}^T(\\boldsymbol{A}+\\boldsymbol{A}^T),\n",
    "$$"
   ]
  },
  {
   "cell_type": "markdown",
   "id": "7da8e66e",
   "metadata": {},
   "source": [
    "*ANSWER:*\n",
    "\n",
    "First rewrite the expression:\n",
    "$$\n",
    "f(\\boldsymbol{a}) = \\boldsymbol{a}^T \\boldsymbol{A} \\boldsymbol{a}.\n",
    "$$\n",
    "\n",
    "Using the product rule to differentiate $f(\\boldsymbol{a})$ with respect to $\\boldsymbol{a}$. Considering $\\boldsymbol{a}^T \\boldsymbol{A} \\boldsymbol{a}$ as a product of two functions: $\\boldsymbol{a}^T$ and $\\boldsymbol{A} \\boldsymbol{a}$.\n",
    "$$\n",
    "\\frac{\\partial f}{\\partial \\boldsymbol{a}} = \\frac{\\partial (\\boldsymbol{a}^T)}{\\partial \\boldsymbol{a}} \\boldsymbol{A} \\boldsymbol{a} + \\boldsymbol{a}^T \\frac{\\partial (\\boldsymbol{A} \\boldsymbol{a})}{\\partial \\boldsymbol{a}}\n",
    "$$\n",
    "\n",
    "The derivatives:\n",
    "$$\n",
    "\\frac{\\partial (\\boldsymbol{a}^T)}{\\partial \\boldsymbol{a}} = \\boldsymbol{I}\n",
    "$$\n",
    "$$\n",
    "\\frac{\\partial (\\boldsymbol{A} \\boldsymbol{a})}{\\partial \\boldsymbol{a}} = \\boldsymbol{A}\n",
    "$$\n",
    "\n",
    "This becomes (by using $( (\\mathbf{a}^T \\mathbf{A}^T)^T = \\mathbf{A} \\mathbf{a} )$ and $(\\boldsymbol{a}^T \\boldsymbol{A} = (\\boldsymbol{A}^T \\boldsymbol{a})^T$):\n",
    "$$\n",
    "\\frac{\\partial f}{\\partial \\boldsymbol{a}} = \\boldsymbol{A} \\boldsymbol{a} + \\boldsymbol{a}^T \\boldsymbol{A} = (\\mathbf{a}^T \\mathbf{A}^T)^T + (\\boldsymbol{A}^T \\boldsymbol{a})^T\n",
    "$$\n",
    "\n",
    "**This is how far I got!**"
   ]
  },
  {
   "cell_type": "markdown",
   "id": "498d13ec",
   "metadata": {},
   "source": [
    "## Exercise 2 - Deriving the expression for OLS"
   ]
  },
  {
   "cell_type": "markdown",
   "id": "f3f771de",
   "metadata": {},
   "source": [
    "The ordinary least squares method finds the parameters $\\boldsymbol{\\theta}$ which minimizes the squared error between our model $\\boldsymbol{X\\theta}$ and the true values $\\boldsymbol{y}$.\n",
    "\n",
    "To find the parameters $\\boldsymbol{\\theta}$ which minimizes this error, we take the derivative of the squared error expression with respect to $\\boldsymbol{\\theta}$, and set it equal to 0."
   ]
  },
  {
   "cell_type": "markdown",
   "id": "49690237",
   "metadata": {},
   "source": [
    "**a)** Very briefly explain why the approach above finds the parameters $\\boldsymbol{\\theta}$ which minimizes this error."
   ]
  },
  {
   "cell_type": "markdown",
   "id": "35d7738d",
   "metadata": {},
   "source": [
    "*ANSWER:*\n",
    "\n",
    "We find the extrema, and since it is a convex function it is a local minimum. This then finds the parameters for the minimum squared error, and therefore when the model output are most similar to the truth values. "
   ]
  },
  {
   "cell_type": "markdown",
   "id": "b7cccc9d",
   "metadata": {},
   "source": [
    "We typically write the squared error as\n",
    "\n",
    "$$\n",
    "\\vert\\vert\\boldsymbol{y} - \\boldsymbol{X\\theta}\\vert\\vert^2\n",
    "$$\n",
    "\n",
    "which we can rewrite in matrix-vector form as\n",
    "\n",
    "$$\n",
    "\\left(\\boldsymbol{y}-\\boldsymbol{X}\\boldsymbol{\\theta}\\right)^T\\left(\\boldsymbol{y}-\\boldsymbol{X}\\boldsymbol{\\theta}\\right)\n",
    "$$"
   ]
  },
  {
   "cell_type": "markdown",
   "id": "8fbecf74",
   "metadata": {},
   "source": [
    "**b)** If $\\boldsymbol{X}$ is invertible, what is the expression for the optimal parameters $\\boldsymbol{\\theta}$? (**Hint:** Don't compute any derivatives, but solve $\\boldsymbol{X\\theta}=\\boldsymbol{y}$ for $\\boldsymbol{\\theta}$)"
   ]
  },
  {
   "cell_type": "markdown",
   "id": "667e43db",
   "metadata": {},
   "source": [
    "*ANSWER:*\n",
    "\n",
    "If $X$ is invertible (i.e. $XX^{-1}=I$), we can solve for $\\theta$ directly (by first multiplying each side with $x^{-1}$, then reducing the right side to $\\theta I = \\theta 1$):\n",
    "\n",
    "$$\n",
    "\\hat{\\theta} = X^{-1}y\n",
    "$$\n"
   ]
  },
  {
   "cell_type": "markdown",
   "id": "f37af8f0",
   "metadata": {},
   "source": [
    "**c)** Show that\n",
    "\n",
    "$$\n",
    "\\frac{\\partial \\left(\\boldsymbol{x}-\\boldsymbol{A}\\boldsymbol{s}\\right)^T\\left(\\boldsymbol{x}-\\boldsymbol{A}\\boldsymbol{s}\\right)}{\\partial \\boldsymbol{s}} = -2\\left(\\boldsymbol{x}-\\boldsymbol{A}\\boldsymbol{s}\\right)^T\\boldsymbol{A},\n",
    "$$"
   ]
  },
  {
   "cell_type": "markdown",
   "id": "5429b17e",
   "metadata": {},
   "source": [
    "*ANSWER:*\n",
    "\n",
    "Let $z=x-As$. Then the equation becomes:\n",
    "$$\n",
    "\\frac{\\partial \\left(\\boldsymbol{x}-\\boldsymbol{A}\\boldsymbol{s}\\right)^T\\left(\\boldsymbol{x}-\\boldsymbol{A}\\boldsymbol{s}\\right)}{\\partial \\boldsymbol{s}} = \\frac{\\partial z^Tz}{\\partial \\boldsymbol{s}} \n",
    "$$\n",
    "\n",
    "If we expand $z^Tz$ we get:\n",
    "$$\n",
    "z^Tz = x^Tx - x^TAs - (As)^Tx + (As)^TAs\n",
    "$$\n",
    "$$\n",
    "  = x^Tx - x^TAs - s^TA^Tx + s^TA^TAs\n",
    "$$\n",
    "\n",
    "Using the fact that $x^TAs$ and $s^TA^Tx$ are scalars and $(x^TAs)^T= s^TA^Tx$ and thus equal, we get: \n",
    "$$\n",
    "z^Tz = x^Tx - 2(s^TA^Tx) + s^TA^TAs\n",
    "$$\n",
    "\n",
    "If we now find the derivative with respect to $s$ we get: \n",
    "$$\n",
    "\\frac{\\partial z^Tz}{\\partial \\boldsymbol{s}} = \\frac{\\partial}{\\partial \\boldsymbol{s}} x^Tx - \\frac{\\partial}{\\partial \\boldsymbol{s}} 2(s^TA^Tx) + \\frac{\\partial}{\\partial \\boldsymbol{s}} s^TA^TAs\n",
    "$$\n",
    "$$\n",
    "\\frac{\\partial z^Tz}{\\partial \\boldsymbol{s}} = 0 - 2A^Tx + \\frac{\\partial}{\\partial \\boldsymbol{s}} s^TA^TAs\n",
    "$$\n",
    "\n",
    "Using the product rule on the latter:\n",
    "$$\n",
    "\\frac{\\partial}{\\partial \\boldsymbol{s}} s^TA^TAs = \\frac{\\partial}{\\partial \\boldsymbol{s}} (As)^TAs = A^TAs + (As)^TA\n",
    "$$\n",
    "Again using the fact that $(As)^TA$ and $((As)^TA)^T = A^TAs$ are both scalars, we get: \n",
    "$$\n",
    "\\frac{\\partial}{\\partial \\boldsymbol{s}} s^TA^TAs = 2A^TAs\n",
    "$$\n",
    "\n",
    "Combining this, we get: \n",
    "$$\n",
    "\\frac{\\partial z^Tz}{\\partial \\boldsymbol{s}} = 2A^TAs - 2A^Tx = - 2A^T(x - As) = - 2(x - As)^TA\n",
    "$$\n",
    "\n"
   ]
  },
  {
   "cell_type": "markdown",
   "id": "869fca4d",
   "metadata": {},
   "source": [
    "**d)** Using the expression from **c)**, but substituting back in $\\boldsymbol{\\theta}$, $\\boldsymbol{y}$ and $\\boldsymbol{X}$, find the expression for the optimal parameters $\\boldsymbol{\\theta}$ in the case that $\\boldsymbol{X}$ is not invertible, but $\\boldsymbol{X^T X}$ is, which is most often the case.\n",
    "\n",
    "$$\n",
    "\\boldsymbol{\\hat{\\theta}_{OLS}} = ...\n",
    "$$"
   ]
  },
  {
   "cell_type": "markdown",
   "id": "23b79ea9",
   "metadata": {},
   "source": [
    "*ANSWER:*\n",
    "\n",
    "If we set $x=y$, $s=\\theta$ and $A=X$, and using the expression: \n",
    "$$\n",
    "E(\\theta) = \\vert\\vert\\boldsymbol{y} - \\boldsymbol{X\\theta}\\vert\\vert^2 = \\left(\\boldsymbol{y}-\\boldsymbol{X}\\boldsymbol{\\theta}\\right)^T\\left(\\boldsymbol{y}-\\boldsymbol{X}\\boldsymbol{\\theta}\\right)\n",
    "$$\n",
    "\n",
    "We can find $\\frac{\\partial E(\\theta)}{\\partial \\theta}$ by the answer from last excersise:\n",
    "$$\n",
    "\\frac{\\partial E(\\theta)}{\\partial \\theta} = 2X^T(X\\theta-y) = -2(y - X\\theta)^TX\n",
    "$$\n",
    "\n",
    "By setting this to zero now we get:\n",
    "$$\n",
    "-2(y - X\\theta)^TX = 0 \\implies (y - X\\theta)^TX^T=0\n",
    "$$\n",
    "\n",
    "To find $\\theta$ we rearrange the expression to: \n",
    "$$\n",
    "X^T y = X^T X \\theta\n",
    "$$\n",
    "\n",
    "Assuming $X^TX$ is invertible, we can solve for $\\theta$:\n",
    "$$\n",
    "\\hat{\\theta}_{OLS} = (X^T X)^{-1} X^T y\n",
    "$$"
   ]
  },
  {
   "cell_type": "markdown",
   "id": "57ca3d74",
   "metadata": {},
   "source": [
    "## Exercise 3 - Creating feature matrix and implementing OLS using the analytical expression"
   ]
  },
  {
   "cell_type": "markdown",
   "id": "5dc179f7",
   "metadata": {},
   "source": [
    "With the expression for $\\boldsymbol{\\hat{\\theta}_{OLS}}$, you now have what you need to implement OLS regression with your input data and target data $\\boldsymbol{y}$. But before you can do that, you need to set up you input data as a feature matrix $\\boldsymbol{X}$.\n",
    "\n",
    "In a feature matrix, each row is a datapoint and each column is a feature of that data. If you want to predict someones spending based on their income and number of children, for instance, you would create a row for each person in your dataset, with the montly income and the number of children as columns.\n",
    "\n",
    "We typically also include an intercept in our models. The intercept is a value that is added to our prediction regardless of the value of the other features. The intercept tries to account for constant effects in our data that are not dependant on anything else. In our current example, the intercept could account for living expenses which are typical regardless of income or childcare expenses.\n",
    "\n",
    "We calculate the optimal intercept by including a feature with the constant value of 1 in our model, which is then multplied by some parameter $\\theta_0$ from the OLS method into the optimal intercept value (which will be $\\theta_0$). In practice, we include the intercept in our model by adding a column of ones to the start of our feature matrix."
   ]
  },
  {
   "cell_type": "markdown",
   "id": "5da61481",
   "metadata": {},
   "source": [
    "**a)** Create a feature matrix $\\boldsymbol{X}$ for the features income and children, including an intercept column of ones at the start."
   ]
  },
  {
   "cell_type": "markdown",
   "id": "e0ddfac2",
   "metadata": {},
   "source": [
    "**b)** Use the expression from **3d)** to find the optimal parameters $\\boldsymbol{\\hat{\\beta}_{OLS}}$ for predicting spending based on these features. Create a function for this operation, as you are going to need to use it a lot."
   ]
  },
  {
   "cell_type": "code",
   "execution_count": 26,
   "id": "a0ca7a89",
   "metadata": {},
   "outputs": [
    {
     "name": "stdout",
     "output_type": "stream",
     "text": [
      "OLS Parameters:\n",
      "[ 9.12808583  0.5119025  14.60743095]\n"
     ]
    }
   ],
   "source": [
    "import numpy as np\n",
    "\n",
    "n = 20\n",
    "income = np.array([116., 161., 167., 118., 172., 163., 179., 173., 162., 116., 101., 176., 178., 172., 143., 135., 160., 101., 149., 125.])\n",
    "children = np.array([5, 3, 0, 4, 5, 3, 0, 4, 4, 3, 3, 5, 1, 0, 2, 3, 2, 1, 5, 4])\n",
    "spending = np.array([152., 141., 102., 136., 161., 129.,  99., 159., 160., 107.,  98., 164., 121.,  93., 112., 127., 117.,  69., 156., 131.])\n",
    "\n",
    "# a) Create a feature matrix X for the features income and children, including an intercept columns of ones at \n",
    "# the start\n",
    "X1 = np.c_[np.ones(len(income)), income, children]\n",
    "# Or : \n",
    "X = np.zeros((n, 3))\n",
    "X[:, 0] = 1\n",
    "X[:, 1] = income\n",
    "X[:, 2] = children\n",
    "#X, X1\n",
    "\n",
    "# b) Use the expression from 3d) to find the optimal parameters \\hat{\\beta_{OLS}} for predicting spending based\n",
    "#    on these features. \n",
    "#    \\hat{\\theta}_{OLS} = (X^T X)^{-1} X^T y\n",
    "#    Create a function for this operation, as you are going to need to use it a lot.\n",
    "\n",
    "def OLS_parameters(X, y):\n",
    "    return np.linalg.inv(X.T @ X) @ X.T @ y\n",
    "\n",
    "x = np.c_[np.ones(len(income)), income, children]\n",
    "y = spending\n",
    "beta = OLS_parameters(x, y)\n",
    "\n",
    "print(f\"OLS Parameters:\")\n",
    "print(beta)"
   ]
  },
  {
   "cell_type": "markdown",
   "id": "0cb6da80",
   "metadata": {},
   "source": [
    "## Exercise 4 - Fitting a polynomial"
   ]
  },
  {
   "cell_type": "markdown",
   "id": "71015064",
   "metadata": {},
   "source": [
    "In this course, we typically do linear regression using polynomials, though in real world applications it is also very common to make linear models based on measured features like you did in the previous exercise.\n",
    "\n",
    "When fitting a polynomial with linear regression, we make each polynomial degree($x, x^2, x^3, ..., x^p$) its own feature."
   ]
  },
  {
   "cell_type": "markdown",
   "id": "8321451b",
   "metadata": {},
   "source": [
    "**a)** Create a feature matrix $\\boldsymbol{X}$ for the features $x, x^2, x^3, x^4, x^5$, including an intercept column of ones at the start. Make this into a function, as you will do this a lot over the next weeks."
   ]
  },
  {
   "cell_type": "markdown",
   "id": "b84b1e31",
   "metadata": {},
   "source": [
    "**b)** Use the expression from **3d)** to find the optimal parameters $\\boldsymbol{\\hat{\\beta}_{OLS}}$ for predicting $\\boldsymbol{y}$ based on these features. If you have done everything right so far, this code will not need changing."
   ]
  },
  {
   "cell_type": "markdown",
   "id": "d703f788",
   "metadata": {},
   "source": [
    "**c)** Like in exercise 4 last week, split your feature matrix and target data into a training split and test split."
   ]
  },
  {
   "cell_type": "markdown",
   "id": "a0e3509f",
   "metadata": {},
   "source": [
    "**d)** Train your model on the training data(find the parameters which best fit) and compute the MSE on both the training and test data."
   ]
  },
  {
   "cell_type": "code",
   "execution_count": 47,
   "id": "1e346f4c",
   "metadata": {},
   "outputs": [
    {
     "name": "stdout",
     "output_type": "stream",
     "text": [
      "OLS Parameters for polynomial features:\n",
      "[ 0.84577122  0.27464654 -0.02326439  0.05342623 -0.0034652  -0.0087781 ]\n",
      "X_train shape : (80, 6), y_train shape : (80,)\n",
      "X_test shape  : (20, 6), y_test shape  : (20,)\n",
      "MSE train: 0.01235586424275262\n",
      "MSE test : 0.04286586061129313\n"
     ]
    }
   ],
   "source": [
    "n = 100\n",
    "x = np.linspace(-3, 3, n)\n",
    "y = np.exp(-x**2) + 1.5 * np.exp(-(x-2)**2) + np.random.normal(0, 0.1)\n",
    "\n",
    "# a) Create a feature matrix X for the features x,x^2,x^3,x^4,x^5, including an intercept column of ones at the start.\n",
    "#    Make this into a function, as you will do this a lot over the next weeks. \n",
    "\n",
    "def polynomial_features(x, p):\n",
    "    #x = np.asarray(x).flatten()  # Ensure x is a 1D array\n",
    "    n = len(x)  # Number of samples\n",
    "    X = np.zeros((n, p + 1))  # Initialize an array with shape (n, p+1)\n",
    "    for i in range(p + 1):\n",
    "        X[:, i] = x ** i  # Assign the i-th column to x raised to the power of i\n",
    "        #X[:, i] = x.flatten() ** i  # Flattens to ensure it's a 1D array\n",
    "    return X\n",
    "\n",
    "X = polynomial_features(x, 5)\n",
    "\n",
    "# b) Use the expression from 3d) to find the optimal parameters \\hat{\\beta_{OLS}} for predicting y based\n",
    "#    on these features. If you have done everything right so far, this code will not need changing. \n",
    "\n",
    "beta = OLS_parameters(X, y)\n",
    "\n",
    "print(f\"OLS Parameters for polynomial features:\")\n",
    "print(beta)\n",
    "\n",
    "# c) Like in Excercise 4 last week, split feature matrix and target data into a training plit and test split. \n",
    "from sklearn.model_selection import train_test_split\n",
    "\n",
    "X_train, X_test, y_train, y_test = train_test_split(X, y, test_size=0.2, random_state=45)\n",
    "\n",
    "print(f\"X_train shape : {X_train.shape}, y_train shape : {y_train.shape}\")\n",
    "print(f\"X_test shape  : {X_test.shape}, y_test shape  : {y_test.shape}\")\n",
    "\n",
    "\n",
    "# d) Train your model on the training data (find the parameters which best fit) and compute the MSE on both\n",
    "#    the training and test data\n",
    "\n",
    "beta = OLS_parameters(X_train, y_train)\n",
    "\n",
    "y_train_pred = X_train @ beta\n",
    "y_test_pred  = X_test @ beta\n",
    "\n",
    "mse_train = np.mean((y_train - y_train_pred) ** 2)\n",
    "mse_test  = np.mean((y_test  - y_test_pred)  ** 2)\n",
    "\n",
    "print(f\"MSE train: {mse_train}\")\n",
    "print(f\"MSE test : {mse_test}\")"
   ]
  },
  {
   "cell_type": "markdown",
   "id": "7e431889",
   "metadata": {},
   "source": [
    "**e)** Do the same for each polynomial degree from 2 to 10, and plot the MSE on both the training and test data as a function of polynomial degree. The aim is to reproduce Figure 2.11 of [Hastie et al](https://github.com/CompPhysics/MLErasmus/blob/master/doc/Textbooks/elementsstat.pdf). Feel free to read the discussions leading to figure 2.11 of Hastie et al. "
   ]
  },
  {
   "cell_type": "code",
   "execution_count": 48,
   "id": "ceb57457",
   "metadata": {},
   "outputs": [
    {
     "data": {
      "image/png": "[encoded data removed]",
      "text/plain": [
       "<Figure size 640x480 with 1 Axes>"
      ]
     },
     "metadata": {},
     "output_type": "display_data"
    }
   ],
   "source": [
    "# e) Do the same for each polynomial degree from 2 to 10, and plot MSE on both the training and test data as \n",
    "#    a function of polynomial degree. The aim is to reproduce Figure 2.11 of Hasties et al. Feel free to read \n",
    "#    the discussion leading to figure 2.11 of Hasite et al.\n",
    "\n",
    "import matplotlib.pyplot as plt\n",
    "\n",
    "n = 100\n",
    "x = np.linspace(-3, 3, n)\n",
    "y = np.exp(-x**2) + 1.5 * np.exp(-(x-2)**2) + np.random.normal(0, 0.1)\n",
    "\n",
    "degrees = range(2, 11)\n",
    "mse_train_list = []\n",
    "mse_test_list = []\n",
    "\n",
    "# Splitting dataset\n",
    "X_train, X_test, y_train, y_test = train_test_split(x, y, test_size=0.2, random_state=42)\n",
    "\n",
    "for p in degrees:\n",
    "    #print(f\"Degree: {p}\")\n",
    "    X_train_poly = polynomial_features(X_train, p)\n",
    "    X_test_poly  = polynomial_features(X_test, p)\n",
    "    beta = OLS_parameters(X_train_poly, y_train)\n",
    "    y_train_pred = X_train_poly @ beta\n",
    "    y_test_pred  = X_test_poly @ beta\n",
    "    mse_train = np.mean((y_train - y_train_pred) ** 2)\n",
    "    mse_test  = np.mean((y_test - y_test_pred) ** 2)\n",
    "    mse_train_list.append(mse_train)\n",
    "    mse_test_list.append(mse_test)\n",
    "\n",
    "# Plotting the MSE\n",
    "plt.plot(degrees, mse_train_list, label=\"MSE Train\", marker='o')\n",
    "plt.plot(degrees, mse_test_list,  label=\"MSE Test\",  marker='x')\n",
    "plt.xlabel(\"Polynomial Degree\")\n",
    "plt.ylabel(\"Mean Squared Error\")\n",
    "plt.legend()\n",
    "plt.title(\"MSE vs Polynomial Degree\")\n",
    "plt.grid()\n",
    "plt.show()"
   ]
  },
  {
   "cell_type": "markdown",
   "id": "5e5b5954",
   "metadata": {},
   "source": [
    "**f)** Interpret the graph. Why do the lines move as they do? What does it tell us about model performance and generalizability?"
   ]
  },
  {
   "cell_type": "markdown",
   "id": "31a0a2a2",
   "metadata": {},
   "source": [
    "*ANSWER:*\n",
    "\n",
    "The mean squared error for both test and training decreases as the polynomial degree increases, which indicates that the model is able to fit the data better with more complex models. When I tested the increase in the polynomial degree, the MSE got worse after about 12th degree, which could indicate that this is when overfitting happens. However, when comparing to the figure 2.11 in Hastie et al., in my case both the test and training seems to become worse, at the same time. Overfitting means that the models fits too well to the given train-data that it miss fitting the test-data. Low-degree polynomials may underfit the data while high-degree polynomials may overfit it, and is not able to generalize to the test-data. Figure 2.11 shows the bias-variance tradeoff and describes the balance between a model's ability to minimize bias (error due to overly simplistic assumptions) and variance (error due to excessive complexity)."
   ]
  },
  {
   "cell_type": "markdown",
   "id": "5994f0c5",
   "metadata": {},
   "source": [
    "## Exercise 5 - Comparing your code with sklearn"
   ]
  },
  {
   "cell_type": "markdown",
   "id": "8f595b7a",
   "metadata": {},
   "source": [
    "When implementing different algorithms for the first time, it can be helpful to double check your results with established implementations before you go on to add more complexity."
   ]
  },
  {
   "cell_type": "markdown",
   "id": "8ab310c1",
   "metadata": {},
   "source": [
    "**a)** Make sure your `polynomial_features` function creates the same feature matrix as sklearns PolynomialFeatures.\n",
    "\n",
    "(https://scikit-learn.org/stable/modules/generated/sklearn.preprocessing.PolynomialFeatures.html)"
   ]
  },
  {
   "cell_type": "code",
   "execution_count": 49,
   "id": "85b964d1",
   "metadata": {},
   "outputs": [
    {
     "name": "stdout",
     "output_type": "stream",
     "text": [
      "Are the matrices equal? True\n"
     ]
    }
   ],
   "source": [
    "# a) Make sure your polynomial_features function creates the same feature matrix as sklearns PolynomialFeatures.\n",
    "\n",
    "from sklearn.preprocessing import PolynomialFeatures\n",
    "\n",
    "my_feature_matrix = polynomial_features(X_train, 3)\n",
    "sklearn_feature_matrix = PolynomialFeatures(degree=3, include_bias=True).fit_transform(X_train.reshape(-1, 1))\n",
    "\n",
    "# Comparing the results:\n",
    "#print(\"My Feature Matrix:\")\n",
    "#print(my_feature_matrix)\n",
    "#print(\"Sklearn Feature Matrix:\")\n",
    "#print(sklearn_feature_matrix)\n",
    "\n",
    "print(\"Are the matrices equal?\", np.allclose(my_feature_matrix, sklearn_feature_matrix))"
   ]
  },
  {
   "cell_type": "markdown",
   "id": "73c32c52",
   "metadata": {},
   "source": [
    "**b)** Make sure your `OLS_parameters` function computes the same parameters as sklearns LinearRegression with fit_intercept set to False, since the intercept is included in the feature matrix. Use `your_model_object.coef_` to extract the computed parameters.\n",
    "\n",
    "(https://scikit-learn.org/stable/modules/generated/sklearn.linear_model.LinearRegression.html)"
   ]
  },
  {
   "cell_type": "code",
   "execution_count": 54,
   "id": "35b04126",
   "metadata": {},
   "outputs": [
    {
     "name": "stdout",
     "output_type": "stream",
     "text": [
      "My OLS Parameters:\n",
      "[ 1.01292090e+00  9.27189048e-02 -7.26029104e-01  2.39716819e-01\n",
      "  4.52555927e-01 -5.66037947e-02 -1.11667556e-01  3.76161032e-03\n",
      "  1.18916636e-02 -4.30383598e-05 -4.67934249e-04]\n",
      "Sklearn Parameters:\n",
      "[ 1.01292090e+00  9.27189035e-02 -7.26029105e-01  2.39716821e-01\n",
      "  4.52555927e-01 -5.66037954e-02 -1.11667556e-01  3.76161042e-03\n",
      "  1.18916636e-02 -4.30383653e-05 -4.67934248e-04]\n",
      "Are the parameters equal? True\n"
     ]
    }
   ],
   "source": [
    "# b) Make sure your OLS_parameters function computes the same parameters as sklearns LinearRegression with \n",
    "#    fit_intercept set to False, since the intercept is included in the feature matrix. Use your_model_object.coef_\n",
    "#    to extract the computed parameters. \n",
    "\n",
    "from sklearn.linear_model import LinearRegression\n",
    "\n",
    "X = polynomial_features(x, 10)\n",
    "X_train, X_test, y_train, y_test = train_test_split(X, y, test_size=0.2, random_state=45)\n",
    "\n",
    "my_OLS_parameters = OLS_parameters(X_train, y_train)\n",
    "sklearn_model = LinearRegression(fit_intercept=False).fit(X_train, y_train)\n",
    "sklearn_parameters = sklearn_model.coef_\n",
    "\n",
    "# Comparing the results:\n",
    "print(\"My OLS Parameters:\")\n",
    "print(my_OLS_parameters)\n",
    "print(\"Sklearn Parameters:\")\n",
    "print(sklearn_parameters)\n",
    "\n",
    "print(\"Are the parameters equal?\", np.allclose(my_OLS_parameters, sklearn_parameters))"
   ]
  }
 ],
 "metadata": {
  "kernelspec": {
   "display_name": "base",
   "language": "python",
   "name": "python3"
  },
  "language_info": {
   "codemirror_mode": {
    "name": "ipython",
    "version": 3
   },
   "file_extension": ".py",
   "mimetype": "text/x-python",
   "name": "python",
   "nbconvert_exporter": "python",
   "pygments_lexer": "ipython3",
   "version": "3.12.7"
  }
 },
 "nbformat": 4,
 "nbformat_minor": 5
}
